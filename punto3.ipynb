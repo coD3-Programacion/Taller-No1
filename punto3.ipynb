{
 "cells": [
  {
   "cell_type": "code",
   "execution_count": null,
   "metadata": {},
   "outputs": [],
   "source": [
    "x : int = int((input(\"ingrese un numero para determinar si es par o impar: \")))\n",
    "if x%2 == 0:\n",
    "    print(x, \" es par\")\n",
    "elif x%2 != 0:\n",
    "    print(x, \" es impar\")"
   ]
  }
 ],
 "metadata": {
  "kernelspec": {
   "display_name": "Python 3",
   "language": "python",
   "name": "python3"
  },
  "language_info": {
   "name": "python",
   "version": "3.12.0"
  }
 },
 "nbformat": 4,
 "nbformat_minor": 2
}
